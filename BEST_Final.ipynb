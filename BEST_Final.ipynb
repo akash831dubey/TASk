{
 "cells": [
  {
   "cell_type": "code",
   "execution_count": 1,
   "metadata": {},
   "outputs": [],
   "source": [
    "import cv2 , numpy \n",
    "from PIL import Image\n",
    "import os"
   ]
  },
  {
   "cell_type": "code",
   "execution_count": 2,
   "metadata": {},
   "outputs": [],
   "source": [
    "cap=cv2.VideoCapture(0)"
   ]
  },
  {
   "cell_type": "code",
   "execution_count": 3,
   "metadata": {},
   "outputs": [],
   "source": [
    "model= cv2.CascadeClassifier(\"haarcascade_frontalface_default.xml\")"
   ]
  },
  {
   "cell_type": "code",
   "execution_count": 4,
   "metadata": {},
   "outputs": [
    {
     "name": "stdout",
     "output_type": "stream",
     "text": [
      "Enter Your Choice Press 1 For SMS SEND  and Press 2 For  Send Email : 1\n",
      "SMbab9a37151b14695b0f2d7ae6703f00a\n",
      "SMS SENT...............\n",
      "Enter Your Choice Press 1 For SMS SEND  and Press 2 For  Send Email : 2\n",
      "Email Sent......................\n",
      "Enter Your Choice Press 1 For SMS SEND  and Press 2 For  Send Email : 3\n",
      "Wrong Choice ........\n"
     ]
    }
   ],
   "source": [
    "while True :\n",
    "    ret, photo=cap.read()\n",
    "    chphoto=cv2.cvtColor(photo, cv2.COLOR_BGR2GRAY)\n",
    "    face=model.detectMultiScale(photo)\n",
    "    if len(face)==0:\n",
    "        pass\n",
    "    else :\n",
    "         x1=face[0][0]\n",
    "         y1=face[0][1]\n",
    "         x2=x1+face[0][2]\n",
    "         y2=y1+face[0][3]\n",
    "         aphoto=cv2.rectangle(photo,(x1,y1),(x2,y2),[255,0,255],10)\n",
    "         cv2.imshow(\"Myphoto\",photo)\n",
    "         if cv2.waitKey(10)==13:\n",
    "            break\n",
    "cv2.destroyAllWindows()\n",
    "cap.release()\n",
    "alert = Image.fromarray(aphoto ,\"RGB\")\n",
    "alert.save('UNauthorized.png')\n",
    "images = Image.open(r\"UNauthorized.png\")\n",
    "cimage = images.crop((x1, y1, x2, y2))\n",
    "cimage.show()\n",
    "cimage.save('Face_Detected.png')\n",
    "\n",
    "while True:\n",
    "    c=input(\"Enter Your Choice Press 1 For SMS SEND  and Press 2 For  Send Email : \")\n",
    "    #For Sending SMS\n",
    "    if int(c)==1:\n",
    "        from twilio.rest import Client\n",
    "        account_sid = os.environ.get('ACC_KEY')\n",
    "        auth_token = os.environ.get('AUTH_TOC')\n",
    "        client = Client(account_sid, auth_token)\n",
    "        \n",
    "        message = client.messages.create(  from_='+17603382161', body ='We have detected a face there is an sequrity issue ',to ='+918*****691')\n",
    "        print(message.sid)\n",
    "        print(\"SMS SENT...............\")\n",
    "    elif int(c)==2:\n",
    "        #FOR SENDING MAIL\n",
    "        import os\n",
    "        import smtplib\n",
    "        from email.mime.text import MIMEText\n",
    "        from email.mime.image import MIMEImage\n",
    "        from email.mime.multipart import MIMEMultipart\n",
    "\n",
    "\n",
    "        def SendMail(ImgFileName):\n",
    "            with open(ImgFileName, 'rb') as f:\n",
    "                img_data = f.read()\n",
    "        #print(img_data)\n",
    "\n",
    "            msg = MIMEMultipart()\n",
    "            msg['Subject'] = 'Face Detected.................'\n",
    "            msg['From'] = os.environ.get('E_MAIL_FROM')\n",
    "            msg['To'] = os.environ.get('E_MAIL_TO')\n",
    "            senders=os.environ.get('E_MAIL_FROM')\n",
    "            passw=os.environ.get('E_MAIL_PASS')\n",
    "\n",
    "            text = MIMEText(\"test\")\n",
    "            msg.attach(text)\n",
    "            image = MIMEImage(img_data, name=os.path.basename(ImgFileName))\n",
    "    #print(image)\n",
    "            msg.attach(image)\n",
    "\n",
    "            s = smtplib.SMTP('smtp.gmail.com', 587)\n",
    "            s.ehlo()\n",
    "            s.starttls()\n",
    "            s.ehlo()\n",
    "            s.login(senders, passw)\n",
    "            s.sendmail(senders, 'udemyakashgroup831@gmail.com', msg.as_string())\n",
    "            s.quit()\n",
    "    \n",
    "        SendMail(\"Face_Detected.png\")\n",
    "        print(\"Email Sent......................\")  \n",
    "    else:\n",
    "         print(\"Wrong Choice ........\")\n",
    "         break\n",
    "     "
   ]
  },
  {
   "cell_type": "code",
   "execution_count": null,
   "metadata": {},
   "outputs": [],
   "source": [
    "\n"
   ]
  },
  {
   "cell_type": "code",
   "execution_count": null,
   "metadata": {},
   "outputs": [],
   "source": []
  },
  {
   "cell_type": "code",
   "execution_count": null,
   "metadata": {},
   "outputs": [],
   "source": []
  },
  {
   "cell_type": "code",
   "execution_count": null,
   "metadata": {},
   "outputs": [],
   "source": []
  },
  {
   "cell_type": "code",
   "execution_count": null,
   "metadata": {},
   "outputs": [],
   "source": []
  },
  {
   "cell_type": "code",
   "execution_count": null,
   "metadata": {},
   "outputs": [],
   "source": []
  },
  {
   "cell_type": "code",
   "execution_count": null,
   "metadata": {},
   "outputs": [],
   "source": []
  },
  {
   "cell_type": "code",
   "execution_count": null,
   "metadata": {},
   "outputs": [],
   "source": []
  },
  {
   "cell_type": "code",
   "execution_count": null,
   "metadata": {},
   "outputs": [],
   "source": []
  },
  {
   "cell_type": "code",
   "execution_count": null,
   "metadata": {},
   "outputs": [],
   "source": []
  },
  {
   "cell_type": "code",
   "execution_count": null,
   "metadata": {},
   "outputs": [],
   "source": []
  },
  {
   "cell_type": "code",
   "execution_count": null,
   "metadata": {},
   "outputs": [],
   "source": []
  },
  {
   "cell_type": "code",
   "execution_count": null,
   "metadata": {},
   "outputs": [],
   "source": []
  },
  {
   "cell_type": "code",
   "execution_count": null,
   "metadata": {},
   "outputs": [],
   "source": []
  },
  {
   "cell_type": "code",
   "execution_count": null,
   "metadata": {},
   "outputs": [],
   "source": []
  },
  {
   "cell_type": "code",
   "execution_count": null,
   "metadata": {},
   "outputs": [],
   "source": []
  },
  {
   "cell_type": "code",
   "execution_count": null,
   "metadata": {},
   "outputs": [],
   "source": []
  },
  {
   "cell_type": "code",
   "execution_count": null,
   "metadata": {},
   "outputs": [],
   "source": []
  },
  {
   "cell_type": "code",
   "execution_count": null,
   "metadata": {},
   "outputs": [],
   "source": []
  },
  {
   "cell_type": "code",
   "execution_count": null,
   "metadata": {},
   "outputs": [],
   "source": []
  },
  {
   "cell_type": "code",
   "execution_count": null,
   "metadata": {},
   "outputs": [],
   "source": [
    "while True :\n",
    "    ret, photo=cap.read()\n",
    "    chphoto=cv2.cvtColor(photo, cv2.COLOR_BGR2GRAY)\n",
    "    face=model.detectMultiScale(photo)\n",
    "    if len(face)==0:\n",
    "        pass\n",
    "    else :\n",
    "         x1=face[0][0]\n",
    "         y1=face[0][1]\n",
    "         x2=x1+face[0][2]\n",
    "         y2=y1+face[0][3]\n",
    "         aphoto=cv2.rectangle(photo,(x1,y1),(x2,y2),[255,0,255],10)\n",
    "         cv2.imshow(\"Myphoto\",photo)\n",
    "         if cv2.waitKey(10)==13:\n",
    "            break\n",
    "cv2.destroyAllWindows()\n",
    "cap.release()\n",
    "alert = Image.fromarray(aphoto ,\"RGB\")\n",
    "alert.save('UNauthorized.png')\n",
    "images = Image.open(r\"UNauthorized.png\")\n",
    "cimage = images.crop((x1, y1, x2, y2))\n",
    "cimage.show()\n",
    "cimage.save('Face_Detected.png')\n",
    "\n",
    "while True:\n",
    "    c=input(\"Enter Your Choice Press 1 For Send Email and Press 2 For Send SMS : \")\n",
    "    #For Sending SMS\n",
    "    if int(c)==1:\n",
    "        from twilio.rest import Client\n",
    "        account_sid = 'ACdf0f776b45ef08b241323f6f62d54426'\n",
    "        auth_token = '0415db850c213178ff971fdfe33d1bad'\n",
    "        client = Client(account_sid, auth_token)\n",
    "        \n",
    "        message = client.messages.create(  from_='+17603382161', body ='We have detected a face there is an sequrity issue ',to ='+918986853691')\n",
    "        print(message.sid)\n",
    "        print(\"SMS SENT...............\")\n",
    "    elif int(c)==2:\n",
    "        #FOR SENDING MAIL\n",
    "        import os\n",
    "        import smtplib\n",
    "        from email.mime.text import MIMEText\n",
    "        from email.mime.image import MIMEImage\n",
    "        from email.mime.multipart import MIMEMultipart\n",
    "\n",
    "\n",
    "        def SendMail(ImgFileName):\n",
    "            with open(ImgFileName, 'rb') as f:\n",
    "                img_data = f.read()\n",
    "        #print(img_data)\n",
    "\n",
    "            msg = MIMEMultipart()\n",
    "            msg['Subject'] = 'Face Detected.................'\n",
    "            msg['From'] = 'gaganyoutb2@gmail.com'\n",
    "            msg['To'] = 'udemyakashgroup831@gmail.com'\n",
    "\n",
    "            text = MIMEText(\"test\")\n",
    "            msg.attach(text)\n",
    "            image = MIMEImage(img_data, name=os.path.basename(ImgFileName))\n",
    "    #print(image)\n",
    "            msg.attach(image)\n",
    "\n",
    "            s = smtplib.SMTP('smtp.gmail.com', 587)\n",
    "            s.ehlo()\n",
    "            s.starttls()\n",
    "            s.ehlo()\n",
    "            s.login('gaganyoutb2@gmail.com', 'SK2#gagan66')\n",
    "            s.sendmail('gaganyoutb2@gmail.com', 'udemyakashgroup831@gmail.com', msg.as_string())\n",
    "            s.quit()\n",
    "    \n",
    "        SendMail(\"Face_Detected.png\")\n",
    "        print(\"Email Sent......................\")  \n",
    "    else:\n",
    "         print(\"Wrong Choice ........\")\n",
    "         break\n",
    "     "
   ]
  }
 ],
 "metadata": {
  "kernelspec": {
   "display_name": "Python 3",
   "language": "python",
   "name": "python3"
  },
  "language_info": {
   "codemirror_mode": {
    "name": "ipython",
    "version": 3
   },
   "file_extension": ".py",
   "mimetype": "text/x-python",
   "name": "python",
   "nbconvert_exporter": "python",
   "pygments_lexer": "ipython3",
   "version": "3.8.5"
  }
 },
 "nbformat": 4,
 "nbformat_minor": 4
}
